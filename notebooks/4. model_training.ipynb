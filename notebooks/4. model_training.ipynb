{
 "cells": [
  {
   "cell_type": "code",
   "execution_count": 1,
   "id": "fac4be1a",
   "metadata": {},
   "outputs": [],
   "source": [
    "import pandas as pd\n",
    "\n",
    "from sklearn.model_selection import StratifiedKFold\n",
    "\n",
    "from sklearn.linear_model import LogisticRegression\n",
    "from sklearn.ensemble import RandomForestClassifier\n",
    "from xgboost import XGBClassifier\n",
    "from lightgbm import LGBMClassifier\n",
    "\n",
    "import sys\n",
    "import os\n",
    "\n",
    "PROJECT_DIRECTORY = os.path.join(os.getcwd(), '..')\n",
    "sys.path.append(PROJECT_DIRECTORY)\n",
    "\n",
    "from src.features_processing import *\n",
    "from src.model_evaluation import *"
   ]
  },
  {
   "cell_type": "markdown",
   "id": "df024475",
   "metadata": {},
   "source": [
    "# Carregando Artefatos"
   ]
  },
  {
   "cell_type": "code",
   "execution_count": 2,
   "id": "d442a0ed",
   "metadata": {},
   "outputs": [],
   "source": [
    "AUX_VAR_PATH     = PROJECT_DIRECTORY + '/models/artefacts/aux_vars.pickle'\n",
    "TARGET_VARS_PATH = PROJECT_DIRECTORY + '/models/artefacts/target_vars.pickle'\n",
    "NUM_VARS_PATH    = PROJECT_DIRECTORY + '/models/artefacts/num_vars.pickle'\n",
    "CAT_VARS_PATH    = PROJECT_DIRECTORY + '/models/artefacts/cat_vars.pickle'\n",
    "\n",
    "CAT_IMPUTER_PATH = PROJECT_DIRECTORY + '/models/artefacts/cat_imputer.pickle'\n",
    "NUM_IMPUTER_PATH = PROJECT_DIRECTORY + '/models/artefacts/num_imputer.pickle'\n",
    "\n",
    "CAT_ENCONDER_PATH = PROJECT_DIRECTORY + '/models/artefacts/cat_encoder.pickle'\n",
    "NUM_SCALER_PATH   = PROJECT_DIRECTORY + '/models/artefacts/num_scaler.pickle'\n",
    "\n",
    "SELECTED_VARS_PATH = PROJECT_DIRECTORY + '/models/artefacts/selected_vars.pickle'\n",
    "\n",
    "\n",
    "with open(AUX_VAR_PATH,'rb') as f:\n",
    "    aux_vars = pickle.load(f)\n",
    "\n",
    "with open(TARGET_VARS_PATH,'rb') as f:\n",
    "    target_vars = pickle.load(f)\n",
    "\n",
    "with open(SELECTED_VARS_PATH,'rb') as f:\n",
    "    selected_vars = pickle.load(f)"
   ]
  },
  {
   "cell_type": "markdown",
   "id": "5d5e9404",
   "metadata": {},
   "source": [
    "# Carregando bases de treino e teste"
   ]
  },
  {
   "cell_type": "code",
   "execution_count": 3,
   "id": "4f58b549",
   "metadata": {},
   "outputs": [],
   "source": [
    "abt_treino = pd.read_parquet(PROJECT_DIRECTORY + '/data/processed/abt_treino.parquet')\n",
    "abt_teste = pd.read_parquet(PROJECT_DIRECTORY + '/data/processed/abt_teste.parquet')\n",
    "\n",
    "\n",
    "abt_treino = tratamento_completo(df = abt_treino,\n",
    "                                 aux_vars_path    = AUX_VAR_PATH,\n",
    "                                 target_var_path  = TARGET_VARS_PATH,\n",
    "                                 num_vars_path    = NUM_VARS_PATH,\n",
    "                                 cat_vars_path    = CAT_VARS_PATH,\n",
    "                                 cat_imputer_path = CAT_IMPUTER_PATH,\n",
    "                                 num_imputer_path = NUM_IMPUTER_PATH,\n",
    "                                 cat_encoder_path = CAT_ENCONDER_PATH,\n",
    "                                 num_scaler_path  = NUM_SCALER_PATH)\n",
    "\n",
    "\n",
    "abt_teste = tratamento_completo(df = abt_teste,\n",
    "                                 aux_vars_path    = AUX_VAR_PATH,\n",
    "                                 target_var_path  = TARGET_VARS_PATH,\n",
    "                                 num_vars_path    = NUM_VARS_PATH,\n",
    "                                 cat_vars_path    = CAT_VARS_PATH,\n",
    "                                 cat_imputer_path = CAT_IMPUTER_PATH,\n",
    "                                 num_imputer_path = NUM_IMPUTER_PATH,\n",
    "                                 cat_encoder_path = CAT_ENCONDER_PATH,\n",
    "                                 num_scaler_path  = NUM_SCALER_PATH)"
   ]
  },
  {
   "cell_type": "markdown",
   "id": "6ac9560a",
   "metadata": {},
   "source": [
    "# Preparando variaveis para treino e teste"
   ]
  },
  {
   "cell_type": "code",
   "execution_count": 4,
   "id": "6f6f55e1",
   "metadata": {},
   "outputs": [],
   "source": [
    "X_train  = abt_treino[selected_vars]\n",
    "y_train  = abt_treino[target_vars]\n",
    "\n",
    "X_test = abt_teste[selected_vars]\n",
    "y_test = abt_teste[target_vars]"
   ]
  },
  {
   "cell_type": "markdown",
   "id": "ab630c09",
   "metadata": {},
   "source": [
    "# Definindo Modelos"
   ]
  },
  {
   "cell_type": "code",
   "execution_count": 5,
   "id": "dab54bc4",
   "metadata": {},
   "outputs": [],
   "source": [
    "models = {\n",
    "    'Logistic Regression': LogisticRegression(max_iter=1000, random_state=42),\n",
    "    'Random Forest':       RandomForestClassifier(n_estimators=100, n_jobs=-1, random_state=42),\n",
    "    'XGBoost':             XGBClassifier(use_label_encoder=False, eval_metric='logloss', random_state=42),\n",
    "    'LightGBM':            LGBMClassifier(n_estimators=100, n_jobs=-1, random_state=42)\n",
    "}"
   ]
  },
  {
   "cell_type": "markdown",
   "id": "7b32183e",
   "metadata": {},
   "source": [
    "# Cross Validation"
   ]
  },
  {
   "cell_type": "code",
   "execution_count": 6,
   "id": "1704eed6",
   "metadata": {},
   "outputs": [
    {
     "name": "stderr",
     "output_type": "stream",
     "text": [
      "c:\\Users\\anima\\Desktop\\Case_PicPay\\.venv\\Lib\\site-packages\\sklearn\\utils\\validation.py:1408: DataConversionWarning: A column-vector y was passed when a 1d array was expected. Please change the shape of y to (n_samples, ), for example using ravel().\n",
      "  y = column_or_1d(y, warn=True)\n",
      "c:\\Users\\anima\\Desktop\\Case_PicPay\\.venv\\Lib\\site-packages\\sklearn\\base.py:1389: DataConversionWarning: A column-vector y was passed when a 1d array was expected. Please change the shape of y to (n_samples,), for example using ravel().\n",
      "  return fit_method(estimator, *args, **kwargs)\n",
      "c:\\Users\\anima\\Desktop\\Case_PicPay\\.venv\\Lib\\site-packages\\xgboost\\training.py:183: UserWarning: [09:11:39] WARNING: C:\\actions-runner\\_work\\xgboost\\xgboost\\src\\learner.cc:738: \n",
      "Parameters: { \"use_label_encoder\" } are not used.\n",
      "\n",
      "  bst.update(dtrain, iteration=i, fobj=obj)\n",
      "c:\\Users\\anima\\Desktop\\Case_PicPay\\.venv\\Lib\\site-packages\\sklearn\\preprocessing\\_label.py:93: DataConversionWarning: A column-vector y was passed when a 1d array was expected. Please change the shape of y to (n_samples, ), for example using ravel().\n",
      "  y = column_or_1d(y, warn=True)\n",
      "c:\\Users\\anima\\Desktop\\Case_PicPay\\.venv\\Lib\\site-packages\\sklearn\\preprocessing\\_label.py:129: DataConversionWarning: A column-vector y was passed when a 1d array was expected. Please change the shape of y to (n_samples, ), for example using ravel().\n",
      "  y = column_or_1d(y, dtype=self.classes_.dtype, warn=True)\n"
     ]
    },
    {
     "name": "stdout",
     "output_type": "stream",
     "text": [
      "[LightGBM] [Info] Number of positive: 1852, number of negative: 4716\n",
      "[LightGBM] [Info] Auto-choosing col-wise multi-threading, the overhead of testing was 0.000597 seconds.\n",
      "You can set `force_col_wise=true` to remove the overhead.\n",
      "[LightGBM] [Info] Total Bins 7866\n",
      "[LightGBM] [Info] Number of data points in the train set: 6568, number of used features: 42\n",
      "[LightGBM] [Info] [binary:BoostFromScore]: pavg=0.281973 -> initscore=-0.934695\n",
      "[LightGBM] [Info] Start training from score -0.934695\n"
     ]
    },
    {
     "name": "stderr",
     "output_type": "stream",
     "text": [
      "c:\\Users\\anima\\Desktop\\Case_PicPay\\.venv\\Lib\\site-packages\\sklearn\\utils\\validation.py:1408: DataConversionWarning: A column-vector y was passed when a 1d array was expected. Please change the shape of y to (n_samples, ), for example using ravel().\n",
      "  y = column_or_1d(y, warn=True)\n",
      "c:\\Users\\anima\\Desktop\\Case_PicPay\\.venv\\Lib\\site-packages\\sklearn\\base.py:1389: DataConversionWarning: A column-vector y was passed when a 1d array was expected. Please change the shape of y to (n_samples,), for example using ravel().\n",
      "  return fit_method(estimator, *args, **kwargs)\n",
      "c:\\Users\\anima\\Desktop\\Case_PicPay\\.venv\\Lib\\site-packages\\xgboost\\training.py:183: UserWarning: [09:11:40] WARNING: C:\\actions-runner\\_work\\xgboost\\xgboost\\src\\learner.cc:738: \n",
      "Parameters: { \"use_label_encoder\" } are not used.\n",
      "\n",
      "  bst.update(dtrain, iteration=i, fobj=obj)\n",
      "c:\\Users\\anima\\Desktop\\Case_PicPay\\.venv\\Lib\\site-packages\\sklearn\\preprocessing\\_label.py:93: DataConversionWarning: A column-vector y was passed when a 1d array was expected. Please change the shape of y to (n_samples, ), for example using ravel().\n",
      "  y = column_or_1d(y, warn=True)\n",
      "c:\\Users\\anima\\Desktop\\Case_PicPay\\.venv\\Lib\\site-packages\\sklearn\\preprocessing\\_label.py:129: DataConversionWarning: A column-vector y was passed when a 1d array was expected. Please change the shape of y to (n_samples, ), for example using ravel().\n",
      "  y = column_or_1d(y, dtype=self.classes_.dtype, warn=True)\n"
     ]
    },
    {
     "name": "stdout",
     "output_type": "stream",
     "text": [
      "[LightGBM] [Info] Number of positive: 1853, number of negative: 4716\n",
      "[LightGBM] [Info] Auto-choosing col-wise multi-threading, the overhead of testing was 0.000591 seconds.\n",
      "You can set `force_col_wise=true` to remove the overhead.\n",
      "[LightGBM] [Info] Total Bins 7874\n",
      "[LightGBM] [Info] Number of data points in the train set: 6569, number of used features: 42\n",
      "[LightGBM] [Info] [binary:BoostFromScore]: pavg=0.282083 -> initscore=-0.934155\n",
      "[LightGBM] [Info] Start training from score -0.934155\n"
     ]
    },
    {
     "name": "stderr",
     "output_type": "stream",
     "text": [
      "c:\\Users\\anima\\Desktop\\Case_PicPay\\.venv\\Lib\\site-packages\\sklearn\\utils\\validation.py:1408: DataConversionWarning: A column-vector y was passed when a 1d array was expected. Please change the shape of y to (n_samples, ), for example using ravel().\n",
      "  y = column_or_1d(y, warn=True)\n",
      "c:\\Users\\anima\\Desktop\\Case_PicPay\\.venv\\Lib\\site-packages\\sklearn\\base.py:1389: DataConversionWarning: A column-vector y was passed when a 1d array was expected. Please change the shape of y to (n_samples,), for example using ravel().\n",
      "  return fit_method(estimator, *args, **kwargs)\n",
      "c:\\Users\\anima\\Desktop\\Case_PicPay\\.venv\\Lib\\site-packages\\xgboost\\training.py:183: UserWarning: [09:11:40] WARNING: C:\\actions-runner\\_work\\xgboost\\xgboost\\src\\learner.cc:738: \n",
      "Parameters: { \"use_label_encoder\" } are not used.\n",
      "\n",
      "  bst.update(dtrain, iteration=i, fobj=obj)\n",
      "c:\\Users\\anima\\Desktop\\Case_PicPay\\.venv\\Lib\\site-packages\\sklearn\\preprocessing\\_label.py:93: DataConversionWarning: A column-vector y was passed when a 1d array was expected. Please change the shape of y to (n_samples, ), for example using ravel().\n",
      "  y = column_or_1d(y, warn=True)\n",
      "c:\\Users\\anima\\Desktop\\Case_PicPay\\.venv\\Lib\\site-packages\\sklearn\\preprocessing\\_label.py:129: DataConversionWarning: A column-vector y was passed when a 1d array was expected. Please change the shape of y to (n_samples, ), for example using ravel().\n",
      "  y = column_or_1d(y, dtype=self.classes_.dtype, warn=True)\n"
     ]
    },
    {
     "name": "stdout",
     "output_type": "stream",
     "text": [
      "[LightGBM] [Info] Number of positive: 1853, number of negative: 4716\n",
      "[LightGBM] [Info] Auto-choosing col-wise multi-threading, the overhead of testing was 0.000601 seconds.\n",
      "You can set `force_col_wise=true` to remove the overhead.\n",
      "[LightGBM] [Info] Total Bins 7861\n",
      "[LightGBM] [Info] Number of data points in the train set: 6569, number of used features: 42\n",
      "[LightGBM] [Info] [binary:BoostFromScore]: pavg=0.282083 -> initscore=-0.934155\n",
      "[LightGBM] [Info] Start training from score -0.934155\n"
     ]
    },
    {
     "name": "stderr",
     "output_type": "stream",
     "text": [
      "c:\\Users\\anima\\Desktop\\Case_PicPay\\.venv\\Lib\\site-packages\\sklearn\\utils\\validation.py:1408: DataConversionWarning: A column-vector y was passed when a 1d array was expected. Please change the shape of y to (n_samples, ), for example using ravel().\n",
      "  y = column_or_1d(y, warn=True)\n",
      "c:\\Users\\anima\\Desktop\\Case_PicPay\\.venv\\Lib\\site-packages\\sklearn\\base.py:1389: DataConversionWarning: A column-vector y was passed when a 1d array was expected. Please change the shape of y to (n_samples,), for example using ravel().\n",
      "  return fit_method(estimator, *args, **kwargs)\n",
      "c:\\Users\\anima\\Desktop\\Case_PicPay\\.venv\\Lib\\site-packages\\xgboost\\training.py:183: UserWarning: [09:11:41] WARNING: C:\\actions-runner\\_work\\xgboost\\xgboost\\src\\learner.cc:738: \n",
      "Parameters: { \"use_label_encoder\" } are not used.\n",
      "\n",
      "  bst.update(dtrain, iteration=i, fobj=obj)\n",
      "c:\\Users\\anima\\Desktop\\Case_PicPay\\.venv\\Lib\\site-packages\\sklearn\\preprocessing\\_label.py:93: DataConversionWarning: A column-vector y was passed when a 1d array was expected. Please change the shape of y to (n_samples, ), for example using ravel().\n",
      "  y = column_or_1d(y, warn=True)\n",
      "c:\\Users\\anima\\Desktop\\Case_PicPay\\.venv\\Lib\\site-packages\\sklearn\\preprocessing\\_label.py:129: DataConversionWarning: A column-vector y was passed when a 1d array was expected. Please change the shape of y to (n_samples, ), for example using ravel().\n",
      "  y = column_or_1d(y, dtype=self.classes_.dtype, warn=True)\n"
     ]
    },
    {
     "name": "stdout",
     "output_type": "stream",
     "text": [
      "[LightGBM] [Info] Number of positive: 1853, number of negative: 4716\n",
      "[LightGBM] [Info] Auto-choosing col-wise multi-threading, the overhead of testing was 0.001142 seconds.\n",
      "You can set `force_col_wise=true` to remove the overhead.\n",
      "[LightGBM] [Info] Total Bins 7869\n",
      "[LightGBM] [Info] Number of data points in the train set: 6569, number of used features: 42\n",
      "[LightGBM] [Info] [binary:BoostFromScore]: pavg=0.282083 -> initscore=-0.934155\n",
      "[LightGBM] [Info] Start training from score -0.934155\n"
     ]
    },
    {
     "name": "stderr",
     "output_type": "stream",
     "text": [
      "c:\\Users\\anima\\Desktop\\Case_PicPay\\.venv\\Lib\\site-packages\\sklearn\\utils\\validation.py:1408: DataConversionWarning: A column-vector y was passed when a 1d array was expected. Please change the shape of y to (n_samples, ), for example using ravel().\n",
      "  y = column_or_1d(y, warn=True)\n",
      "c:\\Users\\anima\\Desktop\\Case_PicPay\\.venv\\Lib\\site-packages\\sklearn\\base.py:1389: DataConversionWarning: A column-vector y was passed when a 1d array was expected. Please change the shape of y to (n_samples,), for example using ravel().\n",
      "  return fit_method(estimator, *args, **kwargs)\n",
      "c:\\Users\\anima\\Desktop\\Case_PicPay\\.venv\\Lib\\site-packages\\xgboost\\training.py:183: UserWarning: [09:11:42] WARNING: C:\\actions-runner\\_work\\xgboost\\xgboost\\src\\learner.cc:738: \n",
      "Parameters: { \"use_label_encoder\" } are not used.\n",
      "\n",
      "  bst.update(dtrain, iteration=i, fobj=obj)\n",
      "c:\\Users\\anima\\Desktop\\Case_PicPay\\.venv\\Lib\\site-packages\\sklearn\\preprocessing\\_label.py:93: DataConversionWarning: A column-vector y was passed when a 1d array was expected. Please change the shape of y to (n_samples, ), for example using ravel().\n",
      "  y = column_or_1d(y, warn=True)\n",
      "c:\\Users\\anima\\Desktop\\Case_PicPay\\.venv\\Lib\\site-packages\\sklearn\\preprocessing\\_label.py:129: DataConversionWarning: A column-vector y was passed when a 1d array was expected. Please change the shape of y to (n_samples, ), for example using ravel().\n",
      "  y = column_or_1d(y, dtype=self.classes_.dtype, warn=True)\n"
     ]
    },
    {
     "name": "stdout",
     "output_type": "stream",
     "text": [
      "[LightGBM] [Info] Number of positive: 1853, number of negative: 4716\n",
      "[LightGBM] [Info] Auto-choosing col-wise multi-threading, the overhead of testing was 0.000586 seconds.\n",
      "You can set `force_col_wise=true` to remove the overhead.\n",
      "[LightGBM] [Info] Total Bins 7867\n",
      "[LightGBM] [Info] Number of data points in the train set: 6569, number of used features: 42\n",
      "[LightGBM] [Info] [binary:BoostFromScore]: pavg=0.282083 -> initscore=-0.934155\n",
      "[LightGBM] [Info] Start training from score -0.934155\n"
     ]
    }
   ],
   "source": [
    "# Configura o Stratified K-Fold sobre o treino\n",
    "n_splits = 5\n",
    "skf = StratifiedKFold(n_splits=n_splits, shuffle=True, random_state=42)\n",
    "\n",
    "# Cross-validation dados de treino\n",
    "cv_results = {name: {'ks':[], 'auc':[], 'gini':[]} for name in models}\n",
    "\n",
    "for fold, (idx_tr, idx_val) in enumerate(skf.split(X_train, y_train), 1):\n",
    "    X_tr, X_val = X_train.iloc[idx_tr], X_train.iloc[idx_val]\n",
    "    y_tr, y_val = y_train.iloc[idx_tr], y_train.iloc[idx_val]\n",
    "    \n",
    "    for name, model in models.items():\n",
    "        model.fit(X_tr, y_tr)\n",
    "        y_prob = model.predict_proba(X_val)[:,1]\n",
    "        ks, auc, gini = performance_metrics(y_val, y_prob)\n",
    "        cv_results[name]['ks'].append(ks)\n",
    "        cv_results[name]['auc'].append(auc)\n",
    "        cv_results[name]['gini'].append(gini)"
   ]
  },
  {
   "cell_type": "code",
   "execution_count": 7,
   "id": "9e4358e3",
   "metadata": {},
   "outputs": [],
   "source": [
    "# Agregando as métricas de CV\n",
    "cv_summary = []\n",
    "for name, m in cv_results.items():\n",
    "    cv_summary.append({\n",
    "        'Modelo':    name,\n",
    "        'KS Médio':  np.mean(m['ks']),  'KS Desvio':   np.std(m['ks']),\n",
    "        'AUC Médio': np.mean(m['auc']), 'AUC Desvio':  np.std(m['auc']),\n",
    "        'Gini Médio':np.mean(m['gini']),'Gini Desvio': np.std(m['gini']),\n",
    "    })\n",
    "    \n",
    "df_cv = pd.DataFrame(cv_summary).sort_values('KS Médio', ascending=False)"
   ]
  },
  {
   "cell_type": "code",
   "execution_count": null,
   "id": "fa931230",
   "metadata": {},
   "outputs": [
    {
     "name": "stderr",
     "output_type": "stream",
     "text": [
      "c:\\Users\\anima\\Desktop\\Case_PicPay\\.venv\\Lib\\site-packages\\sklearn\\utils\\validation.py:1408: DataConversionWarning: A column-vector y was passed when a 1d array was expected. Please change the shape of y to (n_samples, ), for example using ravel().\n",
      "  y = column_or_1d(y, warn=True)\n",
      "c:\\Users\\anima\\Desktop\\Case_PicPay\\.venv\\Lib\\site-packages\\sklearn\\base.py:1389: DataConversionWarning: A column-vector y was passed when a 1d array was expected. Please change the shape of y to (n_samples,), for example using ravel().\n",
      "  return fit_method(estimator, *args, **kwargs)\n",
      "c:\\Users\\anima\\Desktop\\Case_PicPay\\.venv\\Lib\\site-packages\\xgboost\\training.py:183: UserWarning: [09:11:43] WARNING: C:\\actions-runner\\_work\\xgboost\\xgboost\\src\\learner.cc:738: \n",
      "Parameters: { \"use_label_encoder\" } are not used.\n",
      "\n",
      "  bst.update(dtrain, iteration=i, fobj=obj)\n",
      "c:\\Users\\anima\\Desktop\\Case_PicPay\\.venv\\Lib\\site-packages\\sklearn\\preprocessing\\_label.py:93: DataConversionWarning: A column-vector y was passed when a 1d array was expected. Please change the shape of y to (n_samples, ), for example using ravel().\n",
      "  y = column_or_1d(y, warn=True)\n",
      "c:\\Users\\anima\\Desktop\\Case_PicPay\\.venv\\Lib\\site-packages\\sklearn\\preprocessing\\_label.py:129: DataConversionWarning: A column-vector y was passed when a 1d array was expected. Please change the shape of y to (n_samples, ), for example using ravel().\n",
      "  y = column_or_1d(y, dtype=self.classes_.dtype, warn=True)\n"
     ]
    },
    {
     "name": "stdout",
     "output_type": "stream",
     "text": [
      "[LightGBM] [Info] Number of positive: 2316, number of negative: 5895\n",
      "[LightGBM] [Info] Auto-choosing col-wise multi-threading, the overhead of testing was 0.001536 seconds.\n",
      "You can set `force_col_wise=true` to remove the overhead.\n",
      "[LightGBM] [Info] Total Bins 7909\n",
      "[LightGBM] [Info] Number of data points in the train set: 8211, number of used features: 42\n",
      "[LightGBM] [Info] [binary:BoostFromScore]: pavg=0.282061 -> initscore=-0.934263\n",
      "[LightGBM] [Info] Start training from score -0.934263\n"
     ]
    }
   ],
   "source": [
    "# Avaliação final no Teste\n",
    "test_summary = []\n",
    "for name, model in models.items():\n",
    "    model.fit(X_train, y_train) \n",
    "    y_prob_test = model.predict_proba(X_test)[:,1]\n",
    "    ks_t, auc_t, gini_t = performance_metrics(y_test, y_prob_test)\n",
    "    test_summary.append({\n",
    "        'Modelo':    name,\n",
    "        'KS':       ks_t,\n",
    "        'AUC':      auc_t,\n",
    "        'Gini':     gini_t\n",
    "    })\n",
    "    \n",
    "df_test = pd.DataFrame(test_summary).sort_values('AUC', ascending=False)"
   ]
  },
  {
   "cell_type": "code",
   "execution_count": 9,
   "id": "29ddbfee",
   "metadata": {},
   "outputs": [
    {
     "name": "stdout",
     "output_type": "stream",
     "text": [
      "=== Resultados Cross-Validation - Treino ===\n"
     ]
    },
    {
     "data": {
      "text/html": [
       "<div>\n",
       "<style scoped>\n",
       "    .dataframe tbody tr th:only-of-type {\n",
       "        vertical-align: middle;\n",
       "    }\n",
       "\n",
       "    .dataframe tbody tr th {\n",
       "        vertical-align: top;\n",
       "    }\n",
       "\n",
       "    .dataframe thead th {\n",
       "        text-align: right;\n",
       "    }\n",
       "</style>\n",
       "<table border=\"1\" class=\"dataframe\">\n",
       "  <thead>\n",
       "    <tr style=\"text-align: right;\">\n",
       "      <th></th>\n",
       "      <th>Modelo</th>\n",
       "      <th>KS Médio</th>\n",
       "      <th>KS Desvio</th>\n",
       "      <th>AUC Médio</th>\n",
       "      <th>AUC Desvio</th>\n",
       "      <th>Gini Médio</th>\n",
       "      <th>Gini Desvio</th>\n",
       "    </tr>\n",
       "  </thead>\n",
       "  <tbody>\n",
       "    <tr>\n",
       "      <th>3</th>\n",
       "      <td>LightGBM</td>\n",
       "      <td>45.561987</td>\n",
       "      <td>2.370354</td>\n",
       "      <td>0.799063</td>\n",
       "      <td>0.012757</td>\n",
       "      <td>59.812548</td>\n",
       "      <td>2.551342</td>\n",
       "    </tr>\n",
       "    <tr>\n",
       "      <th>2</th>\n",
       "      <td>XGBoost</td>\n",
       "      <td>43.578859</td>\n",
       "      <td>2.575198</td>\n",
       "      <td>0.783847</td>\n",
       "      <td>0.012883</td>\n",
       "      <td>56.769418</td>\n",
       "      <td>2.576624</td>\n",
       "    </tr>\n",
       "    <tr>\n",
       "      <th>0</th>\n",
       "      <td>Logistic Regression</td>\n",
       "      <td>42.756065</td>\n",
       "      <td>1.405775</td>\n",
       "      <td>0.782180</td>\n",
       "      <td>0.010572</td>\n",
       "      <td>56.436069</td>\n",
       "      <td>2.114394</td>\n",
       "    </tr>\n",
       "    <tr>\n",
       "      <th>1</th>\n",
       "      <td>Random Forest</td>\n",
       "      <td>42.402667</td>\n",
       "      <td>0.492965</td>\n",
       "      <td>0.779617</td>\n",
       "      <td>0.006277</td>\n",
       "      <td>55.923376</td>\n",
       "      <td>1.255375</td>\n",
       "    </tr>\n",
       "  </tbody>\n",
       "</table>\n",
       "</div>"
      ],
      "text/plain": [
       "                Modelo   KS Médio  KS Desvio  AUC Médio  AUC Desvio  \\\n",
       "3             LightGBM  45.561987   2.370354   0.799063    0.012757   \n",
       "2              XGBoost  43.578859   2.575198   0.783847    0.012883   \n",
       "0  Logistic Regression  42.756065   1.405775   0.782180    0.010572   \n",
       "1        Random Forest  42.402667   0.492965   0.779617    0.006277   \n",
       "\n",
       "   Gini Médio  Gini Desvio  \n",
       "3   59.812548     2.551342  \n",
       "2   56.769418     2.576624  \n",
       "0   56.436069     2.114394  \n",
       "1   55.923376     1.255375  "
      ]
     },
     "metadata": {},
     "output_type": "display_data"
    },
    {
     "name": "stdout",
     "output_type": "stream",
     "text": [
      "\n",
      "=== Resultados Finais - Teste ===\n"
     ]
    },
    {
     "data": {
      "text/html": [
       "<div>\n",
       "<style scoped>\n",
       "    .dataframe tbody tr th:only-of-type {\n",
       "        vertical-align: middle;\n",
       "    }\n",
       "\n",
       "    .dataframe tbody tr th {\n",
       "        vertical-align: top;\n",
       "    }\n",
       "\n",
       "    .dataframe thead th {\n",
       "        text-align: right;\n",
       "    }\n",
       "</style>\n",
       "<table border=\"1\" class=\"dataframe\">\n",
       "  <thead>\n",
       "    <tr style=\"text-align: right;\">\n",
       "      <th></th>\n",
       "      <th>Modelo</th>\n",
       "      <th>KS</th>\n",
       "      <th>AUC</th>\n",
       "      <th>Gini</th>\n",
       "    </tr>\n",
       "  </thead>\n",
       "  <tbody>\n",
       "    <tr>\n",
       "      <th>3</th>\n",
       "      <td>LightGBM</td>\n",
       "      <td>30.950035</td>\n",
       "      <td>0.702397</td>\n",
       "      <td>40.479398</td>\n",
       "    </tr>\n",
       "    <tr>\n",
       "      <th>1</th>\n",
       "      <td>Random Forest</td>\n",
       "      <td>29.082638</td>\n",
       "      <td>0.698118</td>\n",
       "      <td>39.623505</td>\n",
       "    </tr>\n",
       "    <tr>\n",
       "      <th>2</th>\n",
       "      <td>XGBoost</td>\n",
       "      <td>28.540263</td>\n",
       "      <td>0.691322</td>\n",
       "      <td>38.264373</td>\n",
       "    </tr>\n",
       "    <tr>\n",
       "      <th>0</th>\n",
       "      <td>Logistic Regression</td>\n",
       "      <td>28.707148</td>\n",
       "      <td>0.689662</td>\n",
       "      <td>37.932327</td>\n",
       "    </tr>\n",
       "  </tbody>\n",
       "</table>\n",
       "</div>"
      ],
      "text/plain": [
       "                Modelo         KS       AUC       Gini\n",
       "3             LightGBM  30.950035  0.702397  40.479398\n",
       "1        Random Forest  29.082638  0.698118  39.623505\n",
       "2              XGBoost  28.540263  0.691322  38.264373\n",
       "0  Logistic Regression  28.707148  0.689662  37.932327"
      ]
     },
     "metadata": {},
     "output_type": "display_data"
    }
   ],
   "source": [
    "print(\"=== Resultados Cross-Validation - Treino ===\")\n",
    "display(df_cv)\n",
    "\n",
    "print(\"\\n=== Resultados Finais - Teste ===\")\n",
    "display(df_test)"
   ]
  }
 ],
 "metadata": {
  "kernelspec": {
   "display_name": ".venv",
   "language": "python",
   "name": "python3"
  },
  "language_info": {
   "codemirror_mode": {
    "name": "ipython",
    "version": 3
   },
   "file_extension": ".py",
   "mimetype": "text/x-python",
   "name": "python",
   "nbconvert_exporter": "python",
   "pygments_lexer": "ipython3",
   "version": "3.11.9"
  }
 },
 "nbformat": 4,
 "nbformat_minor": 5
}
