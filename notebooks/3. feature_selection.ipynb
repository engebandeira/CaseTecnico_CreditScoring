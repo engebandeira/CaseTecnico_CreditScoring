{
 "cells": [
  {
   "cell_type": "code",
   "execution_count": 1,
   "id": "68fa9482",
   "metadata": {},
   "outputs": [],
   "source": [
    "import pandas as pd\n",
    "import matplotlib.pyplot as plt\n",
    "import pickle\n",
    "\n",
    "from sklearn.ensemble import RandomForestClassifier\n",
    "from sklearn.model_selection import RandomizedSearchCV\n",
    "from boruta import BorutaPy\n",
    "\n",
    "import sys\n",
    "import os\n",
    "\n",
    "PROJECT_DIRECTORY = os.path.join(os.getcwd(), '..')\n",
    "sys.path.append(PROJECT_DIRECTORY)\n",
    "\n",
    "from src.features_processing import *"
   ]
  },
  {
   "cell_type": "code",
   "execution_count": 2,
   "id": "58c25978",
   "metadata": {},
   "outputs": [],
   "source": [
    "abt_treino = pd.read_parquet(PROJECT_DIRECTORY + '/data/processed/abt_treino.parquet')"
   ]
  },
  {
   "cell_type": "markdown",
   "id": "fc521990",
   "metadata": {},
   "source": [
    "# Aplicando Tratamento nas variáveis"
   ]
  },
  {
   "cell_type": "code",
   "execution_count": 3,
   "id": "4b884ba5",
   "metadata": {},
   "outputs": [],
   "source": [
    "AUX_VAR_PATH     = PROJECT_DIRECTORY + '/models/artefacts/aux_vars.pickle'\n",
    "TARGET_VARS_PATH = PROJECT_DIRECTORY + '/models/artefacts/target_vars.pickle'\n",
    "NUM_VARS_PATH    = PROJECT_DIRECTORY + '/models/artefacts/num_vars.pickle'\n",
    "CAT_VARS_PATH    = PROJECT_DIRECTORY + '/models/artefacts/cat_vars.pickle'\n",
    "\n",
    "CAT_IMPUTER_PATH = PROJECT_DIRECTORY + '/models/artefacts/cat_imputer.pickle'\n",
    "NUM_IMPUTER_PATH = PROJECT_DIRECTORY + '/models/artefacts/num_imputer.pickle'\n",
    "\n",
    "CAT_ENCONDER_PATH = PROJECT_DIRECTORY + '/models/artefacts/cat_encoder.pickle'\n",
    "NUM_SCALER_PATH   = PROJECT_DIRECTORY + '/models/artefacts/num_scaler.pickle'\n",
    "\n",
    "\n",
    "with open(AUX_VAR_PATH,'rb') as f:\n",
    "    aux_vars = pickle.load(f)\n",
    "\n",
    "with open(TARGET_VARS_PATH,'rb') as f:\n",
    "    target_vars = pickle.load(f)"
   ]
  },
  {
   "cell_type": "code",
   "execution_count": 4,
   "id": "e8841aac",
   "metadata": {},
   "outputs": [
    {
     "data": {
      "text/html": [
       "<div>\n",
       "<style scoped>\n",
       "    .dataframe tbody tr th:only-of-type {\n",
       "        vertical-align: middle;\n",
       "    }\n",
       "\n",
       "    .dataframe tbody tr th {\n",
       "        vertical-align: top;\n",
       "    }\n",
       "\n",
       "    .dataframe thead th {\n",
       "        text-align: right;\n",
       "    }\n",
       "</style>\n",
       "<table border=\"1\" class=\"dataframe\">\n",
       "  <thead>\n",
       "    <tr style=\"text-align: right;\">\n",
       "      <th></th>\n",
       "      <th>id</th>\n",
       "      <th>safra</th>\n",
       "      <th>y</th>\n",
       "      <th>VAR_27</th>\n",
       "      <th>VAR_67</th>\n",
       "      <th>VAR_37</th>\n",
       "      <th>VAR_29</th>\n",
       "      <th>VAR_42</th>\n",
       "      <th>VAR_46</th>\n",
       "      <th>VAR_51</th>\n",
       "      <th>...</th>\n",
       "      <th>onehotencoder__VAR_60_0.219380082347677</th>\n",
       "      <th>onehotencoder__VAR_60_0.242879678877368</th>\n",
       "      <th>onehotencoder__VAR_60_0.319424920164188</th>\n",
       "      <th>onehotencoder__VAR_60_0.357323965312407</th>\n",
       "      <th>onehotencoder__VAR_60_0.412255795406189</th>\n",
       "      <th>onehotencoder__VAR_60_0.534878115446101</th>\n",
       "      <th>onehotencoder__VAR_60_0.648196909605187</th>\n",
       "      <th>onehotencoder__VAR_60_0.721630021341369</th>\n",
       "      <th>onehotencoder__VAR_64_0</th>\n",
       "      <th>onehotencoder__VAR_64_1</th>\n",
       "    </tr>\n",
       "  </thead>\n",
       "  <tbody>\n",
       "    <tr>\n",
       "      <th>0</th>\n",
       "      <td>1</td>\n",
       "      <td>201404</td>\n",
       "      <td>0</td>\n",
       "      <td>-7.041885e-16</td>\n",
       "      <td>4.305728e-01</td>\n",
       "      <td>6.735464e-01</td>\n",
       "      <td>0.565407</td>\n",
       "      <td>1.269366</td>\n",
       "      <td>1.046352</td>\n",
       "      <td>7.067613e-02</td>\n",
       "      <td>...</td>\n",
       "      <td>0.0</td>\n",
       "      <td>0.0</td>\n",
       "      <td>0.0</td>\n",
       "      <td>0.0</td>\n",
       "      <td>0.0</td>\n",
       "      <td>0.0</td>\n",
       "      <td>0.0</td>\n",
       "      <td>0.0</td>\n",
       "      <td>1.0</td>\n",
       "      <td>0.0</td>\n",
       "    </tr>\n",
       "    <tr>\n",
       "      <th>1</th>\n",
       "      <td>2</td>\n",
       "      <td>201407</td>\n",
       "      <td>0</td>\n",
       "      <td>2.724741e+00</td>\n",
       "      <td>-9.200442e-17</td>\n",
       "      <td>-6.328688e-17</td>\n",
       "      <td>0.000000</td>\n",
       "      <td>0.000000</td>\n",
       "      <td>0.000000</td>\n",
       "      <td>7.691167e-16</td>\n",
       "      <td>...</td>\n",
       "      <td>0.0</td>\n",
       "      <td>0.0</td>\n",
       "      <td>0.0</td>\n",
       "      <td>1.0</td>\n",
       "      <td>0.0</td>\n",
       "      <td>0.0</td>\n",
       "      <td>0.0</td>\n",
       "      <td>0.0</td>\n",
       "      <td>1.0</td>\n",
       "      <td>0.0</td>\n",
       "    </tr>\n",
       "  </tbody>\n",
       "</table>\n",
       "<p>2 rows × 178 columns</p>\n",
       "</div>"
      ],
      "text/plain": [
       "   id   safra  y        VAR_27        VAR_67        VAR_37    VAR_29  \\\n",
       "0   1  201404  0 -7.041885e-16  4.305728e-01  6.735464e-01  0.565407   \n",
       "1   2  201407  0  2.724741e+00 -9.200442e-17 -6.328688e-17  0.000000   \n",
       "\n",
       "     VAR_42    VAR_46        VAR_51  ...  \\\n",
       "0  1.269366  1.046352  7.067613e-02  ...   \n",
       "1  0.000000  0.000000  7.691167e-16  ...   \n",
       "\n",
       "   onehotencoder__VAR_60_0.219380082347677  \\\n",
       "0                                      0.0   \n",
       "1                                      0.0   \n",
       "\n",
       "   onehotencoder__VAR_60_0.242879678877368  \\\n",
       "0                                      0.0   \n",
       "1                                      0.0   \n",
       "\n",
       "   onehotencoder__VAR_60_0.319424920164188  \\\n",
       "0                                      0.0   \n",
       "1                                      0.0   \n",
       "\n",
       "   onehotencoder__VAR_60_0.357323965312407  \\\n",
       "0                                      0.0   \n",
       "1                                      1.0   \n",
       "\n",
       "   onehotencoder__VAR_60_0.412255795406189  \\\n",
       "0                                      0.0   \n",
       "1                                      0.0   \n",
       "\n",
       "   onehotencoder__VAR_60_0.534878115446101  \\\n",
       "0                                      0.0   \n",
       "1                                      0.0   \n",
       "\n",
       "   onehotencoder__VAR_60_0.648196909605187  \\\n",
       "0                                      0.0   \n",
       "1                                      0.0   \n",
       "\n",
       "   onehotencoder__VAR_60_0.721630021341369  onehotencoder__VAR_64_0  \\\n",
       "0                                      0.0                      1.0   \n",
       "1                                      0.0                      1.0   \n",
       "\n",
       "   onehotencoder__VAR_64_1  \n",
       "0                      0.0  \n",
       "1                      0.0  \n",
       "\n",
       "[2 rows x 178 columns]"
      ]
     },
     "execution_count": 4,
     "metadata": {},
     "output_type": "execute_result"
    }
   ],
   "source": [
    "abt_treino = tratamento_completo(df = abt_treino,\n",
    "                                 aux_vars_path    = AUX_VAR_PATH,\n",
    "                                 target_var_path  = TARGET_VARS_PATH,\n",
    "                                 num_vars_path    = NUM_VARS_PATH,\n",
    "                                 cat_vars_path    = CAT_VARS_PATH,\n",
    "                                 cat_imputer_path = CAT_IMPUTER_PATH,\n",
    "                                 num_imputer_path = NUM_IMPUTER_PATH,\n",
    "                                 cat_encoder_path = CAT_ENCONDER_PATH,\n",
    "                                 num_scaler_path  = NUM_SCALER_PATH)\n",
    "\n",
    "abt_treino.head(2)"
   ]
  },
  {
   "cell_type": "markdown",
   "id": "2238436c",
   "metadata": {},
   "source": [
    "# Preparando base para o feature selection"
   ]
  },
  {
   "cell_type": "code",
   "execution_count": 5,
   "id": "9a6682de",
   "metadata": {},
   "outputs": [],
   "source": [
    "X = abt_treino.drop(columns=[*aux_vars,*target_vars])\n",
    "y = abt_treino[target_vars]"
   ]
  },
  {
   "cell_type": "markdown",
   "id": "624f7023",
   "metadata": {},
   "source": [
    "# Rodando feature selection"
   ]
  },
  {
   "cell_type": "code",
   "execution_count": 6,
   "id": "eeb1fee8",
   "metadata": {},
   "outputs": [
    {
     "name": "stderr",
     "output_type": "stream",
     "text": [
      "c:\\Users\\anima\\Desktop\\Case_PicPay\\.venv\\Lib\\site-packages\\sklearn\\base.py:1389: DataConversionWarning: A column-vector y was passed when a 1d array was expected. Please change the shape of y to (n_samples,), for example using ravel().\n",
      "  return fit_method(estimator, *args, **kwargs)\n"
     ]
    }
   ],
   "source": [
    "rf = RandomForestClassifier(\n",
    "    n_estimators=100,\n",
    "    random_state=42,\n",
    "    n_jobs=-1,\n",
    "    oob_score=True\n",
    ")\n",
    "\n",
    "rf.fit(X, y)\n",
    "\n",
    "importances = rf.feature_importances_\n",
    "\n",
    "feat_imp = (\n",
    "    pd.DataFrame({\n",
    "        'feature': X.columns,\n",
    "        'importance': importances\n",
    "    })\n",
    "    .sort_values('importance', ascending=False)\n",
    "    .reset_index(drop=True)\n",
    ")"
   ]
  },
  {
   "cell_type": "markdown",
   "id": "abe5dd39",
   "metadata": {},
   "source": [
    "# Visualizando variáveis mais importantes"
   ]
  },
  {
   "cell_type": "code",
   "execution_count": 7,
   "id": "08aaf629",
   "metadata": {},
   "outputs": [
    {
     "name": "stdout",
     "output_type": "stream",
     "text": [
      "Top 20 Features por importância:\n",
      "                     feature  importance\n",
      "0                      VAR_1    0.058862\n",
      "1                      VAR_6    0.034631\n",
      "2                      VAR_9    0.032806\n",
      "3                     VAR_72    0.030867\n",
      "4                     VAR_65    0.029134\n",
      "5                     VAR_53    0.027900\n",
      "6                     VAR_57    0.027888\n",
      "7                     VAR_30    0.026454\n",
      "8                     VAR_27    0.025260\n",
      "9   onehotencoder__VAR_2_0.0    0.023756\n",
      "10                    VAR_54    0.023529\n",
      "11                    VAR_38    0.021860\n",
      "12  onehotencoder__VAR_3_0.0    0.021607\n",
      "13  onehotencoder__VAR_4_0.0    0.021413\n",
      "14                     VAR_7    0.021083\n",
      "15                    VAR_17    0.019974\n",
      "16                     VAR_5    0.019836\n",
      "17                    VAR_24    0.019609\n",
      "18                    VAR_34    0.019507\n",
      "19                    VAR_52    0.019313\n"
     ]
    },
    {
     "data": {
      "image/png": "[encoded data removed]",
      "text/plain": [
       "<Figure size 1000x800 with 1 Axes>"
      ]
     },
     "metadata": {},
     "output_type": "display_data"
    }
   ],
   "source": [
    "# Lista das 20 Principais Features por Importância\n",
    "print(\"Top 20 Features por importância:\")\n",
    "print(feat_imp.head(20))\n",
    "\n",
    "\n",
    "# Plot das variáveis mais importantes\n",
    "plt.figure(figsize=(10, 8))\n",
    "plt.barh(\n",
    "    feat_imp['feature'][:20][::-1],\n",
    "    feat_imp['importance'][:20][::-1]\n",
    ")\n",
    "plt.xlabel('Importância')\n",
    "plt.title('Top 20 Variáveis - Random Forest')\n",
    "plt.tight_layout()\n",
    "\n",
    "plt.savefig(PROJECT_DIRECTORY + '/reports/top_20_selected_vars.jpeg')\n",
    "plt.show()"
   ]
  },
  {
   "cell_type": "markdown",
   "id": "2f00f3ad",
   "metadata": {},
   "source": [
    "# Aplicando filtro de importância para a seleção final"
   ]
  },
  {
   "cell_type": "code",
   "execution_count": 8,
   "id": "f86db2da",
   "metadata": {},
   "outputs": [
    {
     "name": "stdout",
     "output_type": "stream",
     "text": [
      "\n",
      "Variáveis selecionadas (importância > 0.01):\n",
      "['VAR_1', 'VAR_6', 'VAR_9', 'VAR_72', 'VAR_65', 'VAR_53', 'VAR_57', 'VAR_30', 'VAR_27', 'onehotencoder__VAR_2_0.0', 'VAR_54', 'VAR_38', 'onehotencoder__VAR_3_0.0', 'onehotencoder__VAR_4_0.0', 'VAR_7', 'VAR_17', 'VAR_5', 'VAR_24', 'VAR_34', 'VAR_52', 'VAR_15', 'VAR_35', 'VAR_8', 'VAR_11', 'onehotencoder__VAR_3_1.0', 'VAR_76', 'VAR_13', 'VAR_45', 'VAR_59', 'VAR_14', 'onehotencoder__VAR_2_3.0', 'VAR_51', 'VAR_23', 'VAR_46', 'VAR_37', 'VAR_69', 'VAR_29', 'VAR_42', 'VAR_67', 'VAR_66', 'onehotencoder__VAR_4_1.0', 'onehotencoder__VAR_20_12']\n"
     ]
    }
   ],
   "source": [
    "# Selecionando apenas variáveis com percentual de importância maior que 1,00%\n",
    "threshold = 0.01\n",
    "\n",
    "selected_features = feat_imp.loc[\n",
    "    feat_imp['importance'] > threshold, 'feature'\n",
    "].tolist()\n",
    "\n",
    "print(f\"\\nVariáveis selecionadas (importância > {threshold}):\")\n",
    "print(selected_features)"
   ]
  },
  {
   "cell_type": "markdown",
   "id": "4f92d302",
   "metadata": {},
   "source": [
    "# Salvando lista final de variáveis para modelagem "
   ]
  },
  {
   "cell_type": "code",
   "execution_count": 9,
   "id": "61de1042",
   "metadata": {},
   "outputs": [],
   "source": [
    "SELECTED_VARS_PATH = PROJECT_DIRECTORY + '/models/artefacts/selected_vars.pickle'\n",
    "\n",
    "with open(SELECTED_VARS_PATH,'wb') as f:\n",
    "    pickle.dump(selected_features,f)"
   ]
  }
 ],
 "metadata": {
  "kernelspec": {
   "display_name": ".venv",
   "language": "python",
   "name": "python3"
  },
  "language_info": {
   "codemirror_mode": {
    "name": "ipython",
    "version": 3
   },
   "file_extension": ".py",
   "mimetype": "text/x-python",
   "name": "python",
   "nbconvert_exporter": "python",
   "pygments_lexer": "ipython3",
   "version": "3.11.9"
  }
 },
 "nbformat": 4,
 "nbformat_minor": 5
}
